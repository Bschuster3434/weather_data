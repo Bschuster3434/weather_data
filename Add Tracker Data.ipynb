{
 "cells": [
  {
   "cell_type": "code",
   "execution_count": 30,
   "metadata": {
    "collapsed": true
   },
   "outputs": [],
   "source": [
    "import sqlite3\n",
    "import datetime\n",
    "conn = sqlite3.connect(r\"weather.db\")"
   ]
  },
  {
   "cell_type": "code",
   "execution_count": 26,
   "metadata": {
    "collapsed": false
   },
   "outputs": [],
   "source": [
    "zipcodes = ['22222', '46038']\n",
    "\n",
    "base = datetime.date(2015, 12, 31)\n",
    "numdays = 366 * 5\n",
    "datelist = [base - datetime.timedelta(days=x) for x in range(0, numdays)]\n",
    "datelist = [ date.strftime('%m/%d/%Y') for date in datelist]\n",
    "\n",
    "##Creating a List\n",
    "\n",
    "unique_id = 0\n",
    "output = []\n",
    "\n",
    "for zip in zipcodes:\n",
    "    for date in datelist:\n",
    "        next_record = []\n",
    "        next_record.append(zip)\n",
    "        next_record.append(date)\n",
    "        next_record.append(0)\n",
    "        output.append(tuple(next_record))"
   ]
  },
  {
   "cell_type": "code",
   "execution_count": 27,
   "metadata": {
    "collapsed": false
   },
   "outputs": [
    {
     "data": {
      "text/plain": [
       "<sqlite3.Cursor at 0x32f31a0>"
      ]
     },
     "execution_count": 27,
     "metadata": {},
     "output_type": "execute_result"
    }
   ],
   "source": [
    "conn.executemany('INSERT INTO tracker VALUES(null,?,?,?)', output)"
   ]
  },
  {
   "cell_type": "code",
   "execution_count": 28,
   "metadata": {
    "collapsed": true
   },
   "outputs": [],
   "source": [
    "conn.commit()"
   ]
  },
  {
   "cell_type": "code",
   "execution_count": 31,
   "metadata": {
    "collapsed": false
   },
   "outputs": [
    {
     "name": "stdout",
     "output_type": "stream",
     "text": [
      "(1, u'22222', u'12/31/2015', 0)\n"
     ]
    }
   ],
   "source": [
    "for row in conn.execute('select * from tracker'):\n",
    "    print row\n",
    "    break\n",
    "conn.close()"
   ]
  },
  {
   "cell_type": "code",
   "execution_count": null,
   "metadata": {
    "collapsed": true
   },
   "outputs": [],
   "source": []
  }
 ],
 "metadata": {
  "kernelspec": {
   "display_name": "Python 2",
   "language": "python",
   "name": "python2"
  },
  "language_info": {
   "codemirror_mode": {
    "name": "ipython",
    "version": 2
   },
   "file_extension": ".py",
   "mimetype": "text/x-python",
   "name": "python",
   "nbconvert_exporter": "python",
   "pygments_lexer": "ipython2",
   "version": "2.7.10"
  }
 },
 "nbformat": 4,
 "nbformat_minor": 0
}
