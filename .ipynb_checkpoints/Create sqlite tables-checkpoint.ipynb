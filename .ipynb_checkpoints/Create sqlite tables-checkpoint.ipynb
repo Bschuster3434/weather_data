{
 "cells": [
  {
   "cell_type": "code",
   "execution_count": 1,
   "metadata": {
    "collapsed": true
   },
   "outputs": [],
   "source": [
    "import sqlite3"
   ]
  },
  {
   "cell_type": "code",
   "execution_count": 2,
   "metadata": {
    "collapsed": true
   },
   "outputs": [],
   "source": [
    "conn = sqlite3.connect(r\"weather.db\")"
   ]
  },
  {
   "cell_type": "code",
   "execution_count": 3,
   "metadata": {
    "collapsed": true
   },
   "outputs": [],
   "source": [
    "create_tracker = \"\"\"\n",
    "CREATE TABLE tracker\n",
    "(id INTEGER PRIMARY KEY\n",
    ",zip TEXT\n",
    ",date TEXT\n",
    ",complete INTEGER\n",
    ")\n",
    "\"\"\""
   ]
  },
  {
   "cell_type": "code",
   "execution_count": 4,
   "metadata": {
    "collapsed": false
   },
   "outputs": [
    {
     "data": {
      "text/plain": [
       "<sqlite3.Cursor at 0x30b85a0>"
      ]
     },
     "execution_count": 4,
     "metadata": {},
     "output_type": "execute_result"
    }
   ],
   "source": [
    "conn.execute(create_tracker)"
   ]
  },
  {
   "cell_type": "code",
   "execution_count": 5,
   "metadata": {
    "collapsed": true
   },
   "outputs": [],
   "source": [
    "conn.commit()"
   ]
  },
  {
   "cell_type": "code",
   "execution_count": 6,
   "metadata": {
    "collapsed": true
   },
   "outputs": [],
   "source": [
    "create_weatherData = \"\"\"\n",
    "CREATE TABLE weatherData\n",
    "(\n",
    " id INTEGER PRIMARY KEY\n",
    ",timestamp text\n",
    ",tempMax real\n",
    ",tempAvg real\n",
    ",tempMin real\n",
    ",precip real\n",
    ",precipConf real\n",
    ",snowfall real\n",
    ",snowfallConf real\n",
    ",windSpdMax real\n",
    ",windSpdAvg real\n",
    ",windSpdMin real\n",
    ",cldCvrMax real\n",
    ",cldCvrAvg real\n",
    ",cldCvrMin real\n",
    ",dewPtMax real\n",
    ",dewPtAvg real\n",
    ",dewPtMin real\n",
    ",feelsLikeMax real\n",
    ",feelsLikeAvg real\n",
    ",feelsLikeMin real\n",
    ",relHumMax real\n",
    ",relHumAvg real\n",
    ",relHumMin real\n",
    ",sfcPresMax real\n",
    ",sfcPresAvg real\n",
    ",sfcPresMin real\n",
    ",spcHumMax real\n",
    ",spcHumAvg real\n",
    ",spcHumMin real\n",
    ",wetBulbMax real\n",
    ",wetBulbAvg real\n",
    ",wetBulbMin real\n",
    ")\n",
    "\"\"\""
   ]
  },
  {
   "cell_type": "code",
   "execution_count": 7,
   "metadata": {
    "collapsed": false
   },
   "outputs": [
    {
     "data": {
      "text/plain": [
       "<sqlite3.Cursor at 0x30b84a0>"
      ]
     },
     "execution_count": 7,
     "metadata": {},
     "output_type": "execute_result"
    }
   ],
   "source": [
    "conn.execute(create_weatherData)"
   ]
  },
  {
   "cell_type": "code",
   "execution_count": 8,
   "metadata": {
    "collapsed": true
   },
   "outputs": [],
   "source": [
    "conn.commit()"
   ]
  },
  {
   "cell_type": "code",
   "execution_count": 9,
   "metadata": {
    "collapsed": true
   },
   "outputs": [],
   "source": [
    "conn.close()"
   ]
  },
  {
   "cell_type": "code",
   "execution_count": null,
   "metadata": {
    "collapsed": true
   },
   "outputs": [],
   "source": []
  }
 ],
 "metadata": {
  "kernelspec": {
   "display_name": "Python 2",
   "language": "python",
   "name": "python2"
  },
  "language_info": {
   "codemirror_mode": {
    "name": "ipython",
    "version": 2
   },
   "file_extension": ".py",
   "mimetype": "text/x-python",
   "name": "python",
   "nbconvert_exporter": "python",
   "pygments_lexer": "ipython2",
   "version": "2.7.10"
  }
 },
 "nbformat": 4,
 "nbformat_minor": 0
}
